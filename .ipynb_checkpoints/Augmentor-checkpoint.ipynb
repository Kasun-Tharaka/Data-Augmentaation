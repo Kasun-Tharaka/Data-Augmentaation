{
 "cells": [
  {
   "cell_type": "code",
   "execution_count": 12,
   "id": "a7f1855a",
   "metadata": {},
   "outputs": [
    {
     "name": "stdout",
     "output_type": "stream",
     "text": [
      "Initialised with 2 image(s) found.\n",
      "Output directory set to test/output."
     ]
    }
   ],
   "source": [
    "#Augmentor is a python library which is helps to do data augmentation\n",
    "import Augmentor\n",
    "p = Augmentor.Pipeline(\"test/\")"
   ]
  },
  {
   "cell_type": "code",
   "execution_count": 13,
   "id": "4389d160",
   "metadata": {},
   "outputs": [],
   "source": [
    "#probability -> how many % from test data do this operation\n",
    "p.rotate(probability=0.7, max_left_rotation=10, max_right_rotation=10)"
   ]
  },
  {
   "cell_type": "code",
   "execution_count": 14,
   "id": "03b43d2f",
   "metadata": {},
   "outputs": [],
   "source": [
    "p.rotate90(probability=0.5)"
   ]
  },
  {
   "cell_type": "code",
   "execution_count": 15,
   "id": "d1d9cdbd",
   "metadata": {},
   "outputs": [],
   "source": [
    "p.rotate270(probability=0.5)"
   ]
  },
  {
   "cell_type": "code",
   "execution_count": 16,
   "id": "3a791bff",
   "metadata": {},
   "outputs": [],
   "source": [
    "p.flip_left_right(probability=0.75)"
   ]
  },
  {
   "cell_type": "code",
   "execution_count": 17,
   "id": "49f269c3",
   "metadata": {},
   "outputs": [],
   "source": [
    "p.flip_top_bottom(probability=0.5)"
   ]
  },
  {
   "cell_type": "code",
   "execution_count": 18,
   "id": "c1191214",
   "metadata": {},
   "outputs": [],
   "source": [
    "p.crop_random(probability=0.1, percentage_area=0.2)"
   ]
  },
  {
   "cell_type": "code",
   "execution_count": 19,
   "id": "26befe4c",
   "metadata": {},
   "outputs": [],
   "source": [
    "# this operation will better if do after get final dataset \n",
    "# p.resize(probability=1.0, width=80, height=80)"
   ]
  },
  {
   "cell_type": "code",
   "execution_count": 20,
   "id": "9af1029e",
   "metadata": {},
   "outputs": [],
   "source": [
    "#p.random_brightness(probability = 0.5, min_factor=0.4, max_factor=0.9)\n",
    "#p.random_color(probability=0.5, min_factor=0.4, max_factor=0.9)\n",
    "#p.random_contrast(probability=0.5, min_factor=0.9, max_factor=1.4)\n",
    "#p.random_distortion(probability=0.5, grid_width=7, grid_height=8, magnitude=9)\n",
    "#p.random_erasing(probability0.5, rectangle_area=)\n",
    "#p.zoom(probability=0.7, min_factor=1.1, max_factor=1.5)"
   ]
  },
  {
   "cell_type": "code",
   "execution_count": 21,
   "id": "95e4eec3",
   "metadata": {},
   "outputs": [],
   "source": [
    "p.zoom(probability=0.3, min_factor=1.1, max_factor=1.6)"
   ]
  },
  {
   "cell_type": "code",
   "execution_count": 22,
   "id": "84bfe3a6",
   "metadata": {},
   "outputs": [
    {
     "name": "stderr",
     "output_type": "stream",
     "text": [
      "Processing <PIL.Image.Image image mode=RGB size=968x681 at 0x2B3927053C8>: 100%|█| 100/100 [00:01<00:00, 64.49 Samples/\n"
     ]
    }
   ],
   "source": [
    "# Change the samples size according to requirements\n",
    "#after applying all of those techniques as the output 10 images will be given\n",
    "p.sample(100)"
   ]
  },
  {
   "cell_type": "code",
   "execution_count": null,
   "id": "f1d2b2d6",
   "metadata": {},
   "outputs": [],
   "source": [
    "# Paul sir recommended to increase 5x to 10x of the test data"
   ]
  }
 ],
 "metadata": {
  "kernelspec": {
   "display_name": "Python 3 (ipykernel)",
   "language": "python",
   "name": "python3"
  },
  "language_info": {
   "codemirror_mode": {
    "name": "ipython",
    "version": 3
   },
   "file_extension": ".py",
   "mimetype": "text/x-python",
   "name": "python",
   "nbconvert_exporter": "python",
   "pygments_lexer": "ipython3",
   "version": "3.7.15"
  }
 },
 "nbformat": 4,
 "nbformat_minor": 5
}
